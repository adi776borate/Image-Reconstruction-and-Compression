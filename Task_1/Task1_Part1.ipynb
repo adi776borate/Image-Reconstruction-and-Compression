{
  "nbformat": 4,
  "nbformat_minor": 0,
  "metadata": {
    "colab": {
      "provenance": []
    },
    "kernelspec": {
      "name": "python3",
      "display_name": "Python 3"
    },
    "language_info": {
      "name": "python"
    }
  },
  "cells": [
    {
      "cell_type": "code",
      "source": [
        "import numpy as np"
      ],
      "metadata": {
        "id": "LMnAcE6wmEd_"
      },
      "execution_count": 1,
      "outputs": []
    },
    {
      "cell_type": "code",
      "execution_count": 2,
      "metadata": {
        "id": "W1PpcuVtl3oC"
      },
      "outputs": [],
      "source": [
        "np.random.seed(45) # for consistently generating random no.(reproducable)\n",
        "num_samples = 40\n",
        "\n",
        "# Generating data\n",
        "x1 = np.random.uniform(-1, 1, num_samples)\n",
        "f_x = 3*x1 + 4\n",
        "eps = np.random.randn(num_samples)\n",
        "y = f_x + eps"
      ]
    },
    {
      "cell_type": "code",
      "source": [
        "import torch\n",
        "\n",
        "# Setting random seed for reproducibility\n",
        "torch.manual_seed(45)\n",
        "\n",
        "# Converting the data to tensors\n",
        "x1_tensor = torch.tensor(x1, dtype=torch.float32, requires_grad=False)\n",
        "y_tensor = torch.tensor(y, dtype=torch.float32, requires_grad=False)\n",
        "\n",
        "# Initializing parameters theta_0 and theta_1 as (0,0)\n",
        "theta_0 = torch.tensor(0.0, dtype=torch.float32, requires_grad=True)\n",
        "theta_1 = torch.tensor(0.0, dtype=torch.float32, requires_grad=True)\n",
        "\n",
        "# Defining the linear model\n",
        "def linear_model(x):\n",
        "    return theta_1 * x + theta_0\n",
        "\n",
        "# Defining the loss function (Mean Squared Error)\n",
        "def mse_loss(y_pred, y_true):\n",
        "    return torch.mean((y_pred - y_true) ** 2)\n",
        "\n",
        "# Computing the predicted values\n",
        "y_pred = linear_model(x1_tensor)\n",
        "\n",
        "# Computing the loss\n",
        "loss = mse_loss(y_pred, y_tensor)\n",
        "\n",
        "# Performing backpropagation to compute the gradients\n",
        "loss.backward()\n",
        "\n",
        "# Printing the gradients of theta_0 and theta_1\n",
        "print(f\"Gradient of theta_0: {theta_0.grad.item():.4f}\")\n",
        "print(f\"Gradient of theta_1: {theta_1.grad.item():.4f}\")\n",
        "print(f\"Loss: {loss.item():.4f}\")"
      ],
      "metadata": {
        "colab": {
          "base_uri": "https://localhost:8080/"
        },
        "id": "8mu5NRLtmWyz",
        "outputId": "63717749-19bc-4c32-c942-08c27ad1461b"
      },
      "execution_count": 10,
      "outputs": [
        {
          "output_type": "stream",
          "name": "stdout",
          "text": [
            "Gradient of theta_0: -7.4471\n",
            "Gradient of theta_1: -1.0253\n",
            "Loss: 16.6815\n"
          ]
        }
      ]
    },
    {
      "cell_type": "code",
      "source": [
        "# Initializing parameters theta_0 and theta_1 (using the same values as above (0,0))\n",
        "theta_0_sgd = torch.tensor(0.0, dtype=torch.float32, requires_grad=True)\n",
        "theta_1_sgd = torch.tensor(0.0, dtype=torch.float32, requires_grad=True)\n",
        "\n",
        "# Storing the gradients for each point\n",
        "theta_0_grads = []\n",
        "theta_1_grads = []\n",
        "\n",
        "# Looping over each point in the dataset\n",
        "for i in range(len(x1_tensor)):\n",
        "    # Zeroing the gradients before each point calculation\n",
        "    if theta_0_sgd.grad is not None:\n",
        "        theta_0_sgd.grad.zero_()\n",
        "        theta_1_sgd.grad.zero_()\n",
        "\n",
        "    # Single data point (stochastic step)\n",
        "    x_i = x1_tensor[i]\n",
        "    y_i = y_tensor[i]\n",
        "\n",
        "    # Forward pass (single point prediction)\n",
        "    y_pred_i = theta_1_sgd * x_i + theta_0_sgd\n",
        "\n",
        "    # Computing the loss for this single point\n",
        "    loss_i = (y_pred_i - y_i) ** 2\n",
        "\n",
        "    # Backpropagating the loss to compute gradients\n",
        "    loss_i.backward()\n",
        "\n",
        "    # Storing the gradients for theta_0 and theta_1\n",
        "    theta_0_grads.append(theta_0_sgd.grad.item())\n",
        "    theta_1_grads.append(theta_1_sgd.grad.item())\n",
        "\n",
        "# Calculating the average gradients\n",
        "theta_0_avg_grad = sum(theta_0_grads) / len(theta_0_grads)\n",
        "theta_1_avg_grad = sum(theta_1_grads) / len(theta_1_grads)\n",
        "\n",
        "# Printing the average stochastic gradients\n",
        "print(f\"Average stochastic gradient of theta_0: {theta_0_avg_grad:.4f}\")\n",
        "print(f\"Average stochastic gradient of theta_1: {theta_1_avg_grad:.4f}\")\n",
        "\n",
        "# Comparing with true gradient from the previous batch gradient computation\n",
        "print(f\"True gradient of theta_0: {theta_0.grad.item():.4f}\")\n",
        "print(f\"True gradient of theta_1: {theta_1.grad.item():.4f}\")"
      ],
      "metadata": {
        "colab": {
          "base_uri": "https://localhost:8080/"
        },
        "id": "szc1tnKLp74Y",
        "outputId": "0c73da64-c851-473c-ea8a-97cc982fe0d7"
      },
      "execution_count": 11,
      "outputs": [
        {
          "output_type": "stream",
          "name": "stdout",
          "text": [
            "Average stochastic gradient of theta_0: -7.4471\n",
            "Average stochastic gradient of theta_1: -1.0253\n",
            "True gradient of theta_0: -7.4471\n",
            "True gradient of theta_1: -1.0253\n"
          ]
        }
      ]
    },
    {
      "cell_type": "code",
      "source": [
        "# Number of samples\n",
        "n = len(x1)\n",
        "\n",
        "# Initialize parameters theta_0 and theta_1\n",
        "theta_0 = 0.0\n",
        "theta_1 = 0.0\n",
        "\n",
        "# Computing the predicted values\n",
        "y_pred = theta_1 * x1 + theta_0\n",
        "\n",
        "# Computing the gradients manually\n",
        "grad_theta_0 = -2/n * np.sum(y - y_pred)\n",
        "grad_theta_1 = -2/n * np.sum((y - y_pred) * x1)\n",
        "\n",
        "# Printing the calculated gradients\n",
        "print(f\"Gradient of theta_0 (manual calculation): {grad_theta_0:.4f}\")\n",
        "print(f\"Gradient of theta_1 (manual calculation): {grad_theta_1:.4f}\")"
      ],
      "metadata": {
        "colab": {
          "base_uri": "https://localhost:8080/"
        },
        "id": "e47fRZkOtIFO",
        "outputId": "78448617-e7dc-45e4-bef4-5d97c293feb2"
      },
      "execution_count": 12,
      "outputs": [
        {
          "output_type": "stream",
          "name": "stdout",
          "text": [
            "Gradient of theta_0 (manual calculation): -7.4471\n",
            "Gradient of theta_1 (manual calculation): -1.0253\n"
          ]
        }
      ]
    },
    {
      "cell_type": "code",
      "source": [
        "# Initializing parameters theta_0 and theta_1\n",
        "theta_0_sgd = 0.0\n",
        "theta_1_sgd = 0.0\n",
        "\n",
        "# Storing gradients for each data point\n",
        "theta_0_grads = []\n",
        "theta_1_grads = []\n",
        "\n",
        "# Looping over each data point\n",
        "for i in range(n):\n",
        "    # Single data point (x_i, y_i)\n",
        "    x_i = x1[i]\n",
        "    y_i = y[i]\n",
        "\n",
        "    # Predicted value for the single point\n",
        "    y_pred_i = theta_1_sgd * x_i + theta_0_sgd\n",
        "\n",
        "    # Computing the gradient for this single data point\n",
        "    grad_theta_0_i = -2 * (y_i - y_pred_i)\n",
        "    grad_theta_1_i = -2 * (y_i - y_pred_i) * x_i\n",
        "\n",
        "    # Storing the gradients\n",
        "    theta_0_grads.append(grad_theta_0_i)\n",
        "    theta_1_grads.append(grad_theta_1_i)\n",
        "\n",
        "# Calculating  the average stochastic gradient\n",
        "grad_theta_0_sgd_avg = np.mean(theta_0_grads)\n",
        "grad_theta_1_sgd_avg = np.mean(theta_1_grads)\n",
        "\n",
        "# Printing the stochastic gradient\n",
        "print(f\"Average stochastic gradient of theta_0: {grad_theta_0_sgd_avg:.4f}\")\n",
        "print(f\"Average stochastic gradient of theta_1: {grad_theta_1_sgd_avg:.4f}\")"
      ],
      "metadata": {
        "colab": {
          "base_uri": "https://localhost:8080/"
        },
        "id": "lHWwfOEvt8d0",
        "outputId": "90acd2b3-86e7-4aa4-dae5-62dbdf4b4320"
      },
      "execution_count": 14,
      "outputs": [
        {
          "output_type": "stream",
          "name": "stdout",
          "text": [
            "Average stochastic gradient of theta_0: -7.4471\n",
            "Average stochastic gradient of theta_1: -1.0253\n"
          ]
        }
      ]
    }
  ]
}