{
  "nbformat": 4,
  "nbformat_minor": 0,
  "metadata": {
    "colab": {
      "provenance": []
    },
    "kernelspec": {
      "name": "python3",
      "display_name": "Python 3"
    },
    "language_info": {
      "name": "python"
    }
  },
  "cells": [
    {
      "cell_type": "code",
      "source": [
        "import numpy as np\n",
        "import torch"
      ],
      "metadata": {
        "id": "LMnAcE6wmEd_"
      },
      "execution_count": 4,
      "outputs": []
    },
    {
      "cell_type": "code",
      "execution_count": 8,
      "metadata": {
        "id": "W1PpcuVtl3oC"
      },
      "outputs": [],
      "source": [
        "np.random.seed(45) # for consistently generating random no.(reproducable)\n",
        "num_samples = 40\n",
        "\n",
        "# Generating data\n",
        "x1 = np.random.uniform(-1, 1, num_samples)\n",
        "f_x = 3*x1 + 4\n",
        "eps = np.random.randn(num_samples)\n",
        "y = f_x + eps"
      ]
    },
    {
      "cell_type": "markdown",
      "source": [
        "# Using `torch.autograd` :\n",
        "* `requires_grad=False`(by default) for `x1` and `y` ensures that PyTorch does not attempt to compute gradients for these tensors, which is unnecessary since they are the input data and labels.\n",
        "* When operations performed on tensors that have `requires_grad=True`(`theta_0, theta_1`), PyTorch creates a computation graph. Each tensor keeps track of how it was created (what operations were performed on it) and links back to the operations that generated it.\n",
        "*  When `loss.backward()` is called, PyTorch traverses this computation graph from the output (`loss`) to the input (`theta_0, theta_1`) and computes the gradient of the loss with respect to each parameter that has `requires_grad=True`, using Chain Rule.\n",
        "* After calling `.backward()`, the gradients for `theta_0` and `theta_1` are stored in their .grad attribute"
      ],
      "metadata": {
        "id": "WiK8LgoEhz7L"
      }
    },
    {
      "cell_type": "code",
      "source": [
        "import torch\n",
        "\n",
        "# Setting random seed for reproducibility\n",
        "torch.manual_seed(45)\n",
        "\n",
        "# Converting the data to tensors\n",
        "x1_tensor = torch.tensor(x1, dtype=torch.float32, requires_grad=True)\n",
        "y_tensor = torch.tensor(y, dtype=torch.float32, requires_grad=True)\n",
        "\n",
        "# Initializing parameters theta_0 and theta_1 randomly\n",
        "theta_0 = torch.rand(1, dtype=torch.float32, requires_grad=True)  # Uniformly distributed between [0, 1)\n",
        "theta_1 = torch.randn(1, dtype=torch.float32, requires_grad=True) # Normally distributed mean=0, std=1\n",
        "\n",
        "# Defining the linear model\n",
        "def linear_model(x):\n",
        "    return theta_1 * x + theta_0\n",
        "\n",
        "# Defining the loss function (Mean Squared Error)\n",
        "def mse_loss(y_pred, y_true):\n",
        "    return torch.mean((y_pred - y_true) ** 2)\n",
        "\n",
        "# Computing the predicted values\n",
        "y_pred = linear_model(x1_tensor)\n",
        "\n",
        "# Computing the loss\n",
        "loss = mse_loss(y_pred, y_tensor)\n",
        "\n",
        "# Performing backpropagation to compute the gradients\n",
        "loss.backward()\n",
        "\n",
        "# Printing the gradients of theta_0 and theta_1\n",
        "print(f\"Gradient of theta_0: {theta_0.grad.item():.4f}\")\n",
        "print(f\"Gradient of theta_1: {theta_1.grad.item():.4f}\")\n",
        "print(f\"Loss: {loss.item():.4f}\")"
      ],
      "metadata": {
        "colab": {
          "base_uri": "https://localhost:8080/"
        },
        "id": "8mu5NRLtmWyz",
        "outputId": "4fa41ac6-39c4-4631-8cec-57f8fd51be2e"
      },
      "execution_count": 40,
      "outputs": [
        {
          "output_type": "stream",
          "name": "stdout",
          "text": [
            "Gradient of theta_0: -7.0330\n",
            "Gradient of theta_1: -1.2066\n",
            "Loss: 15.5923\n"
          ]
        }
      ]
    },
    {
      "cell_type": "code",
      "source": [
        "torch.manual_seed(45)\n",
        "# Initializing parameters theta_0 and theta_1 same as above\n",
        "theta_0_sgd = torch.rand(1, dtype=torch.float32, requires_grad=True)  # Uniformly distributed between [0, 1)\n",
        "theta_1_sgd = torch.randn(1, dtype=torch.float32, requires_grad=True) # Normally distributed mean=0, std=1\n",
        "\n",
        "# Storing the gradients for each point\n",
        "theta_0_grads = []\n",
        "theta_1_grads = []\n",
        "\n",
        "# Looping over each point in the dataset\n",
        "for i in range(len(x1_tensor)):\n",
        "    # Zeroing the gradients before each point calculation\n",
        "    if theta_0_sgd.grad is not None:\n",
        "        theta_0_sgd.grad.zero_()\n",
        "        theta_1_sgd.grad.zero_()\n",
        "\n",
        "    # Single data point (stochastic step)\n",
        "    x_i = x1_tensor[i]\n",
        "    y_i = y_tensor[i]\n",
        "\n",
        "    # Forward pass (single point prediction)\n",
        "    y_pred_i = theta_1_sgd * x_i + theta_0_sgd\n",
        "\n",
        "    # Computing the loss for this single point\n",
        "    loss_i = (y_pred_i - y_i) ** 2\n",
        "\n",
        "    # Backpropagating the loss to compute gradients\n",
        "    loss_i.backward()\n",
        "\n",
        "    # Storing the gradients for theta_0 and theta_1\n",
        "    theta_0_grads.append(theta_0_sgd.grad.item())\n",
        "    theta_1_grads.append(theta_1_sgd.grad.item())\n",
        "\n",
        "# Calculating the average gradients\n",
        "theta_0_avg_grad = np.mean(np.array(theta_0_grads))\n",
        "theta_1_avg_grad = np.mean(np.array(theta_1_grads))\n",
        "\n",
        "# Printing the average stochastic gradients\n",
        "print(f\"Average stochastic gradient of theta_0: {theta_0_avg_grad:.4f}\")\n",
        "print(f\"Average stochastic gradient of theta_1: {theta_1_avg_grad:.4f}\")\n",
        "\n",
        "# Comparing with true gradient from the previous batch gradient computation\n",
        "print(f\"True gradient of theta_0: {theta_0.grad.item():.4f}\")\n",
        "print(f\"True gradient of theta_1: {theta_1.grad.item():.4f}\")"
      ],
      "metadata": {
        "colab": {
          "base_uri": "https://localhost:8080/"
        },
        "id": "szc1tnKLp74Y",
        "outputId": "7bd9da37-e6a3-4660-c054-b120e2957f42"
      },
      "execution_count": 41,
      "outputs": [
        {
          "output_type": "stream",
          "name": "stdout",
          "text": [
            "Average stochastic gradient of theta_0: -7.0330\n",
            "Average stochastic gradient of theta_1: -1.2066\n",
            "True gradient of theta_0: -7.0330\n",
            "True gradient of theta_1: -1.2066\n"
          ]
        }
      ]
    },
    {
      "cell_type": "markdown",
      "source": [
        "* As observed from the computed values of the stochastic gradients and the true gradients for the parameters `theta_0` and `theta_1`, both are approximately equal when initialized randomly. This indicates that, under these conditions, the stochastic gradient provides a good estimate of the true gradient.\n",
        "* Therefore, stochastic gradient descent (SGD) serves as an effective method for estimating the gradient and optimizing parameters, especially when computational efficiency is needed for large datasets."
      ],
      "metadata": {
        "id": "wJW1l83aoXN2"
      }
    },
    {
      "cell_type": "markdown",
      "source": [
        "# Using `numpy`"
      ],
      "metadata": {
        "id": "3LkJkdyUmN4a"
      }
    },
    {
      "cell_type": "code",
      "source": [
        "import numpy as np\n",
        "\n",
        "# Number of samples\n",
        "n = len(x1)\n",
        "\n",
        "# Set random seed for reproducibility\n",
        "np.random.seed(45)\n",
        "\n",
        "# Initializing parameters theta_0 and theta_1\n",
        "theta_0_sgd = np.random.rand(1).astype(np.float32)  # Uniformly distributed between [0, 1)\n",
        "theta_1_sgd = np.random.randn(1).astype(np.float32) # Normally distributed mean=0, std=1\n",
        "\n",
        "# Computing the predicted values\n",
        "y_pred = theta_1_sgd * x1 + theta_0_sgd\n",
        "\n",
        "# Computing the gradients manually\n",
        "grad_theta_0 = -2/n * np.sum(y - y_pred) # Formula after applying chain rule\n",
        "grad_theta_1 = -2/n * np.sum((y - y_pred) * x1) # Formula after applying chain rule\n",
        "\n",
        "# Printing the calculated gradients\n",
        "print(f\"Gradient of theta_0 (manual calculation): {grad_theta_0:.4f}\")\n",
        "print(f\"Gradient of theta_1 (manual calculation): {grad_theta_1:.4f}\")"
      ],
      "metadata": {
        "colab": {
          "base_uri": "https://localhost:8080/"
        },
        "id": "e47fRZkOtIFO",
        "outputId": "27d6c371-f871-4c1a-f518-c58c5ea396d3"
      },
      "execution_count": 45,
      "outputs": [
        {
          "output_type": "stream",
          "name": "stdout",
          "text": [
            "Gradient of theta_0 (manual calculation): -5.1731\n",
            "Gradient of theta_1 (manual calculation): -2.2966\n"
          ]
        }
      ]
    },
    {
      "cell_type": "code",
      "source": [
        "# Set random seed for reproducibility\n",
        "np.random.seed(45)\n",
        "\n",
        "# Initializing parameters theta_0 and theta_1\n",
        "theta_0_sgd = np.random.rand(1).astype(np.float32)  # Uniformly distributed between [0, 1)\n",
        "theta_1_sgd = np.random.randn(1).astype(np.float32) # Normally distributed mean=0, std=1\n",
        "\n",
        "# Storing gradients for each data point\n",
        "theta_0_grads = []\n",
        "theta_1_grads = []\n",
        "\n",
        "# Looping over each data point\n",
        "for i in range(n):\n",
        "    # Single data point (x_i, y_i)\n",
        "    x_i = x1[i]\n",
        "    y_i = y[i]\n",
        "\n",
        "    # Predicted value for the single point\n",
        "    y_pred_i = theta_1_sgd * x_i + theta_0_sgd\n",
        "\n",
        "    # Computing the gradient for this single data point\n",
        "    grad_theta_0_i = -2 * (y_i - y_pred_i)\n",
        "    grad_theta_1_i = -2 * (y_i - y_pred_i) * x_i\n",
        "\n",
        "    # Storing the gradients\n",
        "    theta_0_grads.append(grad_theta_0_i)\n",
        "    theta_1_grads.append(grad_theta_1_i)\n",
        "\n",
        "# Calculating  the average stochastic gradient\n",
        "grad_theta_0_sgd_avg = np.mean(theta_0_grads)\n",
        "grad_theta_1_sgd_avg = np.mean(theta_1_grads)\n",
        "\n",
        "# Printing the stochastic gradient\n",
        "print(f\"Average stochastic gradient of theta_0: {grad_theta_0_sgd_avg:.4f}\")\n",
        "print(f\"Average stochastic gradient of theta_1: {grad_theta_1_sgd_avg:.4f}\")\n",
        "\n",
        "# Comparing with true gradient from the previous batch gradient computation\n",
        "print(f\"True gradient of theta_0: {grad_theta_0:.4f}\")\n",
        "print(f\"True gradient of theta_1: {grad_theta_1:.4f}\")"
      ],
      "metadata": {
        "colab": {
          "base_uri": "https://localhost:8080/"
        },
        "id": "lHWwfOEvt8d0",
        "outputId": "903bb03e-bb98-45d7-e8aa-4c095a2caa3b"
      },
      "execution_count": 48,
      "outputs": [
        {
          "output_type": "stream",
          "name": "stdout",
          "text": [
            "Average stochastic gradient of theta_0: -5.1731\n",
            "Average stochastic gradient of theta_1: -2.2966\n",
            "True gradient of theta_0: -5.1731\n",
            "True gradient of theta_1: -2.2966\n"
          ]
        }
      ]
    },
    {
      "cell_type": "markdown",
      "source": [
        "* The results obtained using using `numpy` and the chain rule formula are consistent with those derived by `torch.autograd`. This confirms that both methods yield the same gradient calculations, validating the correctness of manual gradient computation through the chain rule as well as the automatic differentiation provided by PyTorch's `autograd` mechanism."
      ],
      "metadata": {
        "id": "D_d3Ozg0qLaO"
      }
    }
  ]
}